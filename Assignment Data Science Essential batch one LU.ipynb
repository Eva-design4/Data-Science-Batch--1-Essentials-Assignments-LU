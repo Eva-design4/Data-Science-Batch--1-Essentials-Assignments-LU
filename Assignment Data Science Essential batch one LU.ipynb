{
 "cells": [
  {
   "cell_type": "markdown",
   "metadata": {},
   "source": [
    "# Question 1"
   ]
  },
  {
   "cell_type": "markdown",
   "metadata": {},
   "source": [
    "Given the following jumbled word, OBANWRI guess the correct English word.\n",
    "\n",
    "    A. RANIBOW\n",
    "    \n",
    "    B. RAINBOW\n",
    "    \n",
    "    C. BOWRANI\n",
    "    \n",
    "    D. ROBWANI"
   ]
  },
  {
   "cell_type": "markdown",
   "metadata": {},
   "source": [
    "ANSWER: is B. RAINBOW"
   ]
  },
  {
   "cell_type": "markdown",
   "metadata": {},
   "source": [
    "# Question 2"
   ]
  },
  {
   "cell_type": "markdown",
   "metadata": {},
   "source": [
    "Write a program which prints “LETS UPGRADE”. (Please note that you have to\n",
    "print in ALL CAPS as given)\n"
   ]
  },
  {
   "cell_type": "code",
   "execution_count": 1,
   "metadata": {},
   "outputs": [
    {
     "name": "stdout",
     "output_type": "stream",
     "text": [
      "LETS UPGRADE\n"
     ]
    }
   ],
   "source": [
    "\n",
    "print(\"LETS UPGRADE\")"
   ]
  },
  {
   "cell_type": "markdown",
   "metadata": {},
   "source": [
    "# Question 3:"
   ]
  },
  {
   "cell_type": "raw",
   "metadata": {},
   "source": [
    "Write a program that takes cost price and selling price as input and displays whether the transaction is a\n",
    "Profit or a Loss or Neither.\n",
    "\n",
    "INPUT FORMAT\n",
    "\n",
    "The first line contains the cost price.\n",
    "\n",
    "The second line contains the selling price.\n",
    "\n",
    "OUTPUT FORMAT\n",
    "\n",
    "Print \"Profit\" if the transaction is a profit or \"Loss\" if it is a loss.\n",
    "\n",
    "If it is neither profit nor loss, print \"Neither\". (You must not have quotes in your output)\n",
    "\n",
    "NOTE:\n",
    "\n",
    "Please stick to the input and output format. Don't add anything extra like\n",
    "\n",
    "'Enter cost price', 'Enter selling price', etc.\n",
    "\n",
    "Sample Test Cases   Input      Output\n",
    "\n",
    "Test Case 1          20        profit\n",
    "                     30\n",
    "Test Case 2          20         Loss\n",
    "                     10          \n",
    "Test Case 3          20\n",
    "                     20         Neither\n",
    "Test Case 4          19\n",
    "                     19         Neither\n",
    "Test Case 5          23\n",
    "                      7         Loss\n",
    "Test Case 6          19 \n",
    "                     95        profit"
   ]
  },
  {
   "cell_type": "code",
   "execution_count": 2,
   "metadata": {},
   "outputs": [
    {
     "name": "stdout",
     "output_type": "stream",
     "text": [
      "20\n",
      "30\n",
      "Profit\n"
     ]
    }
   ],
   "source": [
    "# Test case 1\n",
    "cp=int(input())\n",
    "sp=int(input())\n",
    "if cp>sp:\n",
    "    print(\"Loss\")\n",
    "elif cp<sp:\n",
    "    print(\"Profit\")\n",
    "else:\n",
    "    print(\"Neither\")\n"
   ]
  },
  {
   "cell_type": "code",
   "execution_count": 3,
   "metadata": {},
   "outputs": [
    {
     "name": "stdout",
     "output_type": "stream",
     "text": [
      "20\n",
      "10\n",
      "Loss\n"
     ]
    }
   ],
   "source": [
    "# Test case 2\n",
    "cp=int(input())\n",
    "sp=int(input())\n",
    "if cp>sp:\n",
    "    print(\"Loss\")\n",
    "elif cp<sp:\n",
    "    print(\"Profit\")\n",
    "else:\n",
    "    print(\"Neither\")\n"
   ]
  },
  {
   "cell_type": "code",
   "execution_count": 4,
   "metadata": {},
   "outputs": [
    {
     "name": "stdout",
     "output_type": "stream",
     "text": [
      "20\n",
      "20\n",
      "Neither\n"
     ]
    }
   ],
   "source": [
    "## Test case 3\n",
    "cp=int(input())\n",
    "sp=int(input())\n",
    "if cp>sp:\n",
    "    print(\"Loss\")\n",
    "elif cp<sp:\n",
    "    print(\"Profit\")\n",
    "else:\n",
    "    print(\"Neither\")\n"
   ]
  },
  {
   "cell_type": "code",
   "execution_count": 5,
   "metadata": {},
   "outputs": [
    {
     "name": "stdout",
     "output_type": "stream",
     "text": [
      "19\n",
      "19\n",
      "Neither\n"
     ]
    }
   ],
   "source": [
    "# Test case 4\n",
    "cp=int(input())\n",
    "sp=int(input())\n",
    "if cp>sp:\n",
    "    print(\"Loss\")\n",
    "elif cp<sp:\n",
    "    print(\"Profit\")\n",
    "else:\n",
    "    print(\"Neither\")\n"
   ]
  },
  {
   "cell_type": "code",
   "execution_count": 6,
   "metadata": {},
   "outputs": [
    {
     "name": "stdout",
     "output_type": "stream",
     "text": [
      "23\n",
      "7\n",
      "Loss\n"
     ]
    }
   ],
   "source": [
    "# Test case 5\n",
    "cp=int(input())\n",
    "sp=int(input())\n",
    "if cp>sp:\n",
    "    print(\"Loss\")\n",
    "elif cp<sp:\n",
    "    print(\"Profit\")\n",
    "else:\n",
    "    print(\"Neither\")\n"
   ]
  },
  {
   "cell_type": "code",
   "execution_count": 7,
   "metadata": {},
   "outputs": [
    {
     "name": "stdout",
     "output_type": "stream",
     "text": [
      "19\n",
      "95\n",
      "Profit\n"
     ]
    }
   ],
   "source": [
    "# Test case 6\n",
    "cp=int(input())\n",
    "sp=int(input())\n",
    "if cp>sp:\n",
    "    print(\"Loss\")\n",
    "elif cp<sp:\n",
    "    print(\"Profit\")\n",
    "else:\n",
    "    print(\"Neither\")\n"
   ]
  },
  {
   "cell_type": "markdown",
   "metadata": {},
   "source": [
    "# Question 4"
   ]
  },
  {
   "cell_type": "raw",
   "metadata": {},
   "source": [
    "Write a program that takes an amount in Euros as input. You need to find its equivalent in\n",
    "Rupees and display it. \n",
    "\n",
    "Assume 1 Euro equals Rs. 80.\n",
    "\n",
    "Please note that you are expected to stick to the given input and output\n",
    "\n",
    "format as in sample test cases. Please don't add any extra lines such as\n",
    "\n",
    "'Enter a number', etc.\n",
    "\n",
    "Your program should take only one number as input and display the output.\n",
    "\n",
    "\n",
    "Sample Test Cases       Input      Output\n",
    "\n",
    "Test Case 1             20         1600\n",
    "\n",
    "Test Case  2            50         4000\n",
    "\n",
    "Test Case 3             72         5760\n",
    "\n",
    "Test Case  4             7          560\n",
    "\n",
    "Test Case   5           35        2800\n",
    "\n",
    "Test Case   6           23        1840\n",
    "\n",
    "Test Case 7             95         7600\n",
    "\n",
    "Test Case   8           18        1440\n"
   ]
  },
  {
   "cell_type": "code",
   "execution_count": 8,
   "metadata": {},
   "outputs": [
    {
     "name": "stdout",
     "output_type": "stream",
     "text": [
      "20\n",
      "1600\n"
     ]
    }
   ],
   "source": [
    "E= int(input())\n",
    "R =80\n",
    "print(E*R)"
   ]
  },
  {
   "cell_type": "code",
   "execution_count": 9,
   "metadata": {},
   "outputs": [
    {
     "name": "stdout",
     "output_type": "stream",
     "text": [
      "50\n",
      "4000\n"
     ]
    }
   ],
   "source": [
    "E= int(input())\n",
    "R =80\n",
    "print(E*R)"
   ]
  },
  {
   "cell_type": "code",
   "execution_count": 10,
   "metadata": {},
   "outputs": [
    {
     "name": "stdout",
     "output_type": "stream",
     "text": [
      "72\n",
      "5760\n"
     ]
    }
   ],
   "source": [
    "E= int(input())\n",
    "R =80\n",
    "print(E*R)"
   ]
  },
  {
   "cell_type": "code",
   "execution_count": 11,
   "metadata": {},
   "outputs": [
    {
     "name": "stdout",
     "output_type": "stream",
     "text": [
      "7\n",
      "560\n"
     ]
    }
   ],
   "source": [
    "E= int(input())\n",
    "R =80\n",
    "print(E*R)"
   ]
  },
  {
   "cell_type": "code",
   "execution_count": 12,
   "metadata": {},
   "outputs": [
    {
     "name": "stdout",
     "output_type": "stream",
     "text": [
      "35\n",
      "2800\n"
     ]
    }
   ],
   "source": [
    "E= int(input())\n",
    "R =80\n",
    "print(E*R)"
   ]
  },
  {
   "cell_type": "code",
   "execution_count": 14,
   "metadata": {},
   "outputs": [
    {
     "name": "stdout",
     "output_type": "stream",
     "text": [
      "23\n",
      "1840\n"
     ]
    }
   ],
   "source": [
    "E= int(input())\n",
    "R =80\n",
    "print(E*R)"
   ]
  },
  {
   "cell_type": "code",
   "execution_count": 15,
   "metadata": {},
   "outputs": [
    {
     "name": "stdout",
     "output_type": "stream",
     "text": [
      "95\n",
      "7600\n"
     ]
    }
   ],
   "source": [
    "E= int(input())\n",
    "R =80\n",
    "print(E*R)"
   ]
  },
  {
   "cell_type": "code",
   "execution_count": 16,
   "metadata": {},
   "outputs": [
    {
     "name": "stdout",
     "output_type": "stream",
     "text": [
      "18\n",
      "1440\n"
     ]
    }
   ],
   "source": [
    "E= int(input())\n",
    "R =80\n",
    "print(E*R)"
   ]
  }
 ],
 "metadata": {
  "kernelspec": {
   "display_name": "Python 3",
   "language": "python",
   "name": "python3"
  },
  "language_info": {
   "codemirror_mode": {
    "name": "ipython",
    "version": 3
   },
   "file_extension": ".py",
   "mimetype": "text/x-python",
   "name": "python",
   "nbconvert_exporter": "python",
   "pygments_lexer": "ipython3",
   "version": "3.7.6"
  },
  "latex_envs": {
   "LaTeX_envs_menu_present": true,
   "autoclose": false,
   "autocomplete": true,
   "bibliofile": "biblio.bib",
   "cite_by": "apalike",
   "current_citInitial": 1,
   "eqLabelWithNumbers": true,
   "eqNumInitial": 1,
   "hotkeys": {
    "equation": "Ctrl-E",
    "itemize": "Ctrl-I"
   },
   "labels_anchors": false,
   "latex_user_defs": false,
   "report_style_numbering": false,
   "user_envs_cfg": false
  }
 },
 "nbformat": 4,
 "nbformat_minor": 4
}
